{
 "cells": [
  {
   "cell_type": "code",
   "id": "initial_id",
   "metadata": {
    "collapsed": true,
    "ExecuteTime": {
     "end_time": "2025-10-19T10:07:27.304258Z",
     "start_time": "2025-10-19T10:07:26.901394Z"
    }
   },
   "source": [
    "import matplotlib.pyplot as plt\n",
    "import pandas as pd\n",
    "from IPython.core.pylabtools import figsize"
   ],
   "outputs": [],
   "execution_count": 3
  },
  {
   "metadata": {
    "ExecuteTime": {
     "end_time": "2025-10-19T10:07:46.096289Z",
     "start_time": "2025-10-19T10:07:46.075145Z"
    }
   },
   "cell_type": "code",
   "source": "df = pd.read_json(\"./data_out/100mt_run/bootstrap_estimates.json\")",
   "id": "e5824f9c60518a85",
   "outputs": [],
   "execution_count": 5
  },
  {
   "metadata": {
    "ExecuteTime": {
     "end_time": "2025-10-19T10:13:06.158394Z",
     "start_time": "2025-10-19T10:13:06.151749Z"
    }
   },
   "cell_type": "code",
   "source": [
    "data = df.agg([\"min\",\"median\",\"max\"])\n",
    "data.loc[\"median\", :]"
   ],
   "id": "6da41ab0c95186df",
   "outputs": [
    {
     "data": {
      "text/plain": [
       "p5     10.558040\n",
       "p25    12.199957\n",
       "p50    13.580035\n",
       "p75    14.734893\n",
       "p95    17.596763\n",
       "Name: median, dtype: float64"
      ]
     },
     "execution_count": 15,
     "metadata": {},
     "output_type": "execute_result"
    }
   ],
   "execution_count": 15
  },
  {
   "metadata": {
    "ExecuteTime": {
     "end_time": "2025-10-19T10:20:34.902479Z",
     "start_time": "2025-10-19T10:20:34.820156Z"
    }
   },
   "cell_type": "code",
   "source": [
    "fig, ax = plt.subplots(nrows=1, ncols=1, figsize=(10,5))\n",
    "ax.scatter(data.loc[\"median\", :].index, data.loc[\"median\", :], color=\"r\")\n",
    "ax.vlines(data.loc[\"median\", :].index, data.loc[\"min\", :], data.loc[\"max\", :], color=\"r\")\n",
    "ax.grid(axis='y', linestyle='--', linewidth=0.5)\n",
    "plt.savefig(\"./data_out/100mt_run/bootstrap_estimates.svg\", bbox_inches='tight')"
   ],
   "id": "63dcbca8c3324adc",
   "outputs": [
    {
     "data": {
      "text/plain": [
       "<Figure size 1000x500 with 1 Axes>"
      ],
      "image/png": "[encoded data removed]"
     },
     "metadata": {},
     "output_type": "display_data",
     "jetTransient": {
      "display_id": null
     }
    }
   ],
   "execution_count": 30
  },
  {
   "metadata": {},
   "cell_type": "code",
   "outputs": [],
   "execution_count": null,
   "source": "",
   "id": "6badf19aac2d7a0c"
  }
 ],
 "metadata": {
  "kernelspec": {
   "display_name": "Python 3",
   "language": "python",
   "name": "python3"
  },
  "language_info": {
   "codemirror_mode": {
    "name": "ipython",
    "version": 2
   },
   "file_extension": ".py",
   "mimetype": "text/x-python",
   "name": "python",
   "nbconvert_exporter": "python",
   "pygments_lexer": "ipython2",
   "version": "2.7.6"
  }
 },
 "nbformat": 4,
 "nbformat_minor": 5
}
